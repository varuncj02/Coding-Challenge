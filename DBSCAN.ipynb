{
  "nbformat": 4,
  "nbformat_minor": 0,
  "metadata": {
    "colab": {
      "name": "DBSCAN.ipynb",
      "provenance": []
    },
    "kernelspec": {
      "name": "python3",
      "display_name": "Python 3"
    }
  },
  "cells": [
    {
      "cell_type": "code",
      "metadata": {
        "id": "PKXY9ayWIhLG",
        "colab_type": "code",
        "colab": {
          "base_uri": "https://localhost:8080/",
          "height": 366
        },
        "outputId": "a2c7d09a-56aa-4924-d213-f4b709656221"
      },
      "source": [
        "import pandas as pd\n",
        "import numpy as np\n",
        "import matplotlib.pyplot as plt\n",
        "from sklearn.cluster import DBSCAN\n",
        "from sklearn.preprocessing import StandardScaler\n",
        "from sklearn.preprocessing import normalize \n",
        "from sklearn.decomposition import PCA \n",
        "from sklearn.neighbors import NearestNeighbors\n",
        "from sklearn.metrics.cluster import adjusted_rand_score\n",
        "\n",
        "\n",
        "\n",
        "# Importing CSV File\n",
        "url = 'https://raw.githubusercontent.com/varuncj02/Coding-Challenge/master/ClusterPlot.csv'\n",
        "\n",
        "df1 = pd.read_csv(url)\n",
        "df1.drop('Unnamed: 0', axis = 1, inplace = True)\n",
        "\n",
        "# To make it more generic if any misplaced or empty values then data processed\n",
        "df1.fillna(method ='ffill', inplace = True) \n",
        "\n",
        "plt.scatter(df1[\"V1\"], df1[\"V2\"])\n",
        "print(df1.head())\n",
        "\n"
      ],
      "execution_count": 113,
      "outputs": [
        {
          "output_type": "stream",
          "text": [
            "     V1    V2\n",
            "0  4.30  0.80\n",
            "1  3.95  0.80\n",
            "2  3.95  0.75\n",
            "3  3.85  0.85\n",
            "4  4.30  0.80\n"
          ],
          "name": "stdout"
        },
        {
          "output_type": "display_data",
          "data": {
            "image/png": "[encoded data removed]",
            "text/plain": [
              "<Figure size 432x288 with 1 Axes>"
            ]
          },
          "metadata": {
            "tags": [],
            "needs_background": "light"
          }
        }
      ]
    },
    {
      "cell_type": "code",
      "metadata": {
        "id": "5jx4B1GuLs8J",
        "colab_type": "code",
        "colab": {
          "base_uri": "https://localhost:8080/",
          "height": 1000
        },
        "outputId": "3938e468-08a3-4861-b0d7-54e5c1cdfe48"
      },
      "source": [
        "#Determining the Ideal Epsilon Value using the Elbow method\n",
        "neigh = NearestNeighbors(n_neighbors = 2)\n",
        "nbrs = neigh.fit(df1)\n",
        "distances, indices = nbrs.kneighbors(df1)\n",
        "\n",
        "print(distances)"
      ],
      "execution_count": 123,
      "outputs": [
        {
          "output_type": "stream",
          "text": [
            "[[0.         0.        ]\n",
            " [0.         0.05      ]\n",
            " [0.         0.05      ]\n",
            " [0.         0.05      ]\n",
            " [0.         0.        ]\n",
            " [0.         0.1118034 ]\n",
            " [0.         0.05      ]\n",
            " [0.         0.05      ]\n",
            " [0.         0.07071068]\n",
            " [0.         0.        ]\n",
            " [0.         0.05      ]\n",
            " [0.         0.1       ]\n",
            " [0.         0.05      ]\n",
            " [0.         0.15811388]\n",
            " [0.         0.1118034 ]\n",
            " [0.         0.25      ]\n",
            " [0.         0.05      ]\n",
            " [0.         0.05      ]\n",
            " [0.         0.1118034 ]\n",
            " [0.         0.        ]\n",
            " [0.         0.        ]\n",
            " [0.         0.        ]\n",
            " [0.         0.1       ]\n",
            " [0.         0.05      ]\n",
            " [0.         0.1118034 ]\n",
            " [0.         0.05      ]\n",
            " [0.         0.1       ]\n",
            " [0.         0.05      ]\n",
            " [0.         0.        ]\n",
            " [0.         0.        ]\n",
            " [0.         0.        ]\n",
            " [0.         0.        ]\n",
            " [0.         0.05      ]\n",
            " [0.         0.1118034 ]\n",
            " [0.         0.        ]\n",
            " [0.         0.1       ]\n",
            " [0.         0.1       ]\n",
            " [0.         0.        ]\n",
            " [0.         0.07071068]\n",
            " [0.         0.05      ]\n",
            " [0.         0.05      ]\n",
            " [0.         0.25      ]\n",
            " [0.         0.1       ]\n",
            " [0.         0.05      ]\n",
            " [0.         0.20615528]\n",
            " [0.         0.05      ]\n",
            " [0.         0.        ]\n",
            " [0.         0.05      ]\n",
            " [0.         0.05      ]\n",
            " [0.         0.07071068]\n",
            " [0.         0.18027756]\n",
            " [0.         0.07071068]\n",
            " [0.         0.14142136]\n",
            " [0.         0.05      ]\n",
            " [0.         0.05      ]\n",
            " [0.         0.07071068]\n",
            " [0.         0.05      ]\n",
            " [0.         0.        ]\n",
            " [0.         0.07071068]\n",
            " [0.         0.05      ]\n",
            " [0.         0.18027756]\n",
            " [0.         0.1       ]\n",
            " [0.         0.05      ]\n",
            " [0.         0.07071068]\n",
            " [0.         0.1       ]\n",
            " [0.         0.1       ]\n",
            " [0.         0.1       ]\n",
            " [0.         0.        ]\n",
            " [0.         0.        ]\n",
            " [0.         0.05      ]\n",
            " [0.         0.        ]\n",
            " [0.         0.1118034 ]\n",
            " [0.         0.14142136]\n",
            " [0.         0.05      ]\n",
            " [0.         0.1       ]\n",
            " [0.         0.07071068]\n",
            " [0.         0.05      ]\n",
            " [0.         0.2       ]\n",
            " [0.         0.05      ]\n",
            " [0.         0.2236068 ]\n",
            " [0.         0.1       ]\n",
            " [0.         0.1       ]\n",
            " [0.         0.        ]\n",
            " [0.         0.1118034 ]\n",
            " [0.         0.        ]\n",
            " [0.         0.05      ]\n",
            " [0.         0.1       ]\n",
            " [0.         0.07071068]\n",
            " [0.         0.05      ]\n",
            " [0.         0.05      ]\n",
            " [0.         0.1118034 ]\n",
            " [0.         0.07071068]\n",
            " [0.         0.07071068]\n",
            " [0.         0.        ]\n",
            " [0.         0.1118034 ]\n",
            " [0.         0.05      ]\n",
            " [0.         0.05      ]\n",
            " [0.         0.1       ]\n",
            " [0.         0.18027756]\n",
            " [0.         0.05      ]\n",
            " [0.         0.25      ]\n",
            " [0.         0.        ]\n",
            " [0.         0.        ]\n",
            " [0.         0.1       ]\n",
            " [0.         0.1       ]\n",
            " [0.         0.05      ]\n",
            " [0.         0.42720019]\n",
            " [0.         0.05      ]\n",
            " [0.         0.05      ]\n",
            " [0.         0.1118034 ]\n",
            " [0.         0.1118034 ]\n",
            " [0.         0.1118034 ]\n",
            " [0.         0.07071068]\n",
            " [0.         0.1118034 ]\n",
            " [0.         0.25495098]\n",
            " [0.         0.05      ]\n",
            " [0.         0.        ]\n",
            " [0.         0.26925824]\n",
            " [0.         0.26925824]\n",
            " [0.         0.2236068 ]\n",
            " [0.         0.        ]\n",
            " [0.         0.07071068]\n",
            " [0.         0.05      ]\n",
            " [0.         0.05      ]\n",
            " [0.         0.1118034 ]\n",
            " [0.         0.14142136]\n",
            " [0.         0.        ]\n",
            " [0.         0.05      ]\n",
            " [0.         0.05      ]\n",
            " [0.         0.1       ]\n",
            " [0.         0.05      ]\n",
            " [0.         0.26925824]\n",
            " [0.         0.05      ]\n",
            " [0.         0.        ]\n",
            " [0.         0.07071068]\n",
            " [0.         0.1118034 ]\n",
            " [0.         0.05      ]\n",
            " [0.         0.        ]\n",
            " [0.         0.        ]\n",
            " [0.         0.05      ]\n",
            " [0.         0.05      ]\n",
            " [0.         0.05      ]\n",
            " [0.         0.        ]\n",
            " [0.         0.        ]\n",
            " [0.         0.        ]\n",
            " [0.         0.07071068]\n",
            " [0.         0.05      ]\n",
            " [0.         0.05      ]\n",
            " [0.         0.05      ]\n",
            " [0.         0.05      ]]\n"
          ],
          "name": "stdout"
        }
      ]
    },
    {
      "cell_type": "code",
      "metadata": {
        "id": "L1SYPYy2N6NX",
        "colab_type": "code",
        "colab": {
          "base_uri": "https://localhost:8080/",
          "height": 282
        },
        "outputId": "c6a3adc2-0b66-4464-c17f-66567f311bb9"
      },
      "source": [
        "distances = np.sort(distances, axis=0)\n",
        "distances = distances[:,1]\n",
        "plt.plot(distances)"
      ],
      "execution_count": 124,
      "outputs": [
        {
          "output_type": "execute_result",
          "data": {
            "text/plain": [
              "[<matplotlib.lines.Line2D at 0x7f9c86465240>]"
            ]
          },
          "metadata": {
            "tags": []
          },
          "execution_count": 124
        },
        {
          "output_type": "display_data",
          "data": {
            "image/png": "[encoded data removed]",
            "text/plain": [
              "<Figure size 432x288 with 1 Axes>"
            ]
          },
          "metadata": {
            "tags": [],
            "needs_background": "light"
          }
        }
      ]
    },
    {
      "cell_type": "code",
      "metadata": {
        "id": "8s7gTwFsPn4a",
        "colab_type": "code",
        "colab": {
          "base_uri": "https://localhost:8080/",
          "height": 50
        },
        "outputId": "8e633cc6-b310-4263-ddcf-4191a51d4e7c"
      },
      "source": [
        "#Epsilon Value will be the value at the maximum curvature in this case that value being around (0.27-0.32)\n",
        "#For ease of use epsilon value of 0.3 is selected\n",
        "\n",
        "m = DBSCAN(eps= 0.3, min_samples= 3)\n",
        "m.fit(df1, 3)\n",
        "\n",
        "\n"
      ],
      "execution_count": 185,
      "outputs": [
        {
          "output_type": "execute_result",
          "data": {
            "text/plain": [
              "DBSCAN(algorithm='auto', eps=0.3, leaf_size=30, metric='euclidean',\n",
              "       metric_params=None, min_samples=3, n_jobs=None, p=None)"
            ]
          },
          "metadata": {
            "tags": []
          },
          "execution_count": 185
        }
      ]
    },
    {
      "cell_type": "code",
      "metadata": {
        "id": "HVntrh4NXsvx",
        "colab_type": "code",
        "colab": {
          "base_uri": "https://localhost:8080/",
          "height": 399
        },
        "outputId": "b5b1fba5-9cda-40d9-c5a0-213381b43f2d"
      },
      "source": [
        "clusters = m.labels_\n",
        "\n",
        "print(clusters)\n",
        "colors = ['royalblue', 'maroon', 'mediumorchid'] #, 'deeppink', 'olive', 'goldenrod', 'lightcyan', 'navy']\n",
        "vectorizer = np.vectorize(lambda x: colors[x % len(colors)])\n",
        "\n",
        "plt.scatter(df1['V1'], df1['V2'], c=vectorizer(clusters))\n",
        "\n",
        "\n",
        "\n"
      ],
      "execution_count": 184,
      "outputs": [
        {
          "output_type": "stream",
          "text": [
            "[ 0  0  0  0  0  0  0  0  0  0  0  0  0  0  0  0  0  0  0  0  0  0  0  0\n",
            "  0  0  0  0  0  0  0  0  0  0  0  0  0  0  0  0  0  0  0  0  0  0  0  0\n",
            "  0  0  1  1  1  1  1  1  1  2  1  1  2  1  1  1  1  1  1  1  1  1  1  1\n",
            "  1  1  1  1  1  1  1  1  1  1  1  1  1  1  1  1  1  1  1  1  1  2  1  1\n",
            "  1  1  2  1  1  1  1  1  1  1 -1  1  1  1  1  1  1  1  1  1  1 -1  1  1\n",
            "  1  1  1  1  1  1  1  1  1  1  1 -1  1  1  1  1  1  1  1  1  1  1  1  1\n",
            "  1  1  1  1  1  1]\n"
          ],
          "name": "stdout"
        },
        {
          "output_type": "execute_result",
          "data": {
            "text/plain": [
              "<matplotlib.collections.PathCollection at 0x7f9c7dcdde48>"
            ]
          },
          "metadata": {
            "tags": []
          },
          "execution_count": 184
        },
        {
          "output_type": "display_data",
          "data": {
            "image/png": "[encoded data removed]",
            "text/plain": [
              "<Figure size 432x288 with 1 Axes>"
            ]
          },
          "metadata": {
            "tags": [],
            "needs_background": "light"
          }
        }
      ]
    }
  ]
}